{
 "cells": [
  {
   "cell_type": "markdown",
   "metadata": {},
   "source": [
    "# Document Similarity Finder\n",
    "\n",
    "This notebook is used for exploratory data analysis and experimentation with the dataset and preprocessing techniques for the Document Similarity Finder tool."
   ]
  },
  {
   "cell_type": "code",
   "execution_count": null,
   "metadata": {
    "collapsed": false
   },
   "outputs": [],
   "source": [
    "import pandas as pd\n",
    "import numpy as np\n",
    "import matplotlib.pyplot as plt\n",
    "import seaborn as sns\n",
    "from sklearn.feature_extraction.text import TfidfVectorizer\n",
    "from src.similarity import compute_cosine_similarity\n",
    "from src.visualization import plot_heatmap, display_top_pairs\n",
    "\n",
    "# Load the dataset\n",
    "documents = pd.read_csv('../data/raw/documents.csv')\n",
    "documents.head()"
   ]
  },
  {
   "cell_type": "code",
   "execution_count": null,
   "metadata": {
    "collapsed": false
   },
   "outputs": [],
   "source": [
    "# Preprocess the documents\n",
    "tfidf_vectorizer = TfidfVectorizer()\n",
    "tfidf_matrix = tfidf_vectorizer.fit_transform(documents['text'])\n",
    "\n",
    "# Compute the cosine similarity matrix\n",
    "similarity_matrix = compute_cosine_similarity(tfidf_matrix)\n",
    "\n",
    "# Display the heatmap of the similarity matrix\n",
    "plt.figure(figsize=(10, 8))\n",
    "plot_heatmap(similarity_matrix, documents['title'])\n",
    "\n",
    "# Display the top 3 most similar document pairs\n",
    "top_pairs = display_top_pairs(similarity_matrix, documents['title'], top_n=3)\n",
    "top_pairs"
   ]
  }
 ],
 "metadata": {
  "kernelspec": {
   "display_name": "Python 3",
   "language": "python",
   "name": "python3"
  },
  "language_info": {
   "codemirror_mode": {
    "name": "ipython",
    "version": 3
   },
   "file_extension": ".py",
   "mimetype": "text/x-python",
   "name": "python",
   "nbconvert_exporter": "python",
   "pygments_lexer": "ipython3",
   "version": "3.8.5"
  }
 },
 "nbformat": 4,
 "nbformat_minor": 4
}